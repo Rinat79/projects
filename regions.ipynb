{
 "cells": [
  {
   "cell_type": "code",
   "execution_count": 1,
   "id": "1f58ed54",
   "metadata": {},
   "outputs": [],
   "source": [
    "import pandas as pd\n",
    "import sqlalchemy\n",
    "import os"
   ]
  },
  {
   "cell_type": "code",
   "execution_count": 2,
   "id": "72b85053",
   "metadata": {},
   "outputs": [],
   "source": [
    "df = pd.read_csv('regions.csv', sep=',')"
   ]
  },
  {
   "cell_type": "code",
   "execution_count": 3,
   "id": "34e75928",
   "metadata": {},
   "outputs": [
    {
     "data": {
      "text/html": [
       "<div>\n",
       "<style scoped>\n",
       "    .dataframe tbody tr th:only-of-type {\n",
       "        vertical-align: middle;\n",
       "    }\n",
       "\n",
       "    .dataframe tbody tr th {\n",
       "        vertical-align: top;\n",
       "    }\n",
       "\n",
       "    .dataframe thead th {\n",
       "        text-align: right;\n",
       "    }\n",
       "</style>\n",
       "<table border=\"1\" class=\"dataframe\">\n",
       "  <thead>\n",
       "    <tr style=\"text-align: right;\">\n",
       "      <th></th>\n",
       "      <th>Регион</th>\n",
       "      <th>Координаты</th>\n",
       "    </tr>\n",
       "  </thead>\n",
       "  <tbody>\n",
       "    <tr>\n",
       "      <th>0</th>\n",
       "      <td>Санкт-Петербург</td>\n",
       "      <td>[59.9343,30.3351]</td>\n",
       "    </tr>\n",
       "    <tr>\n",
       "      <th>1</th>\n",
       "      <td>Барнаул</td>\n",
       "      <td>[53.3606,83.7636]</td>\n",
       "    </tr>\n",
       "    <tr>\n",
       "      <th>2</th>\n",
       "      <td>Рязань</td>\n",
       "      <td>[54.6269,39.6916]</td>\n",
       "    </tr>\n",
       "    <tr>\n",
       "      <th>3</th>\n",
       "      <td>Саратов</td>\n",
       "      <td>[51.5336,46.0342]</td>\n",
       "    </tr>\n",
       "    <tr>\n",
       "      <th>4</th>\n",
       "      <td>Воронеж</td>\n",
       "      <td>[51.6720,39.1843]</td>\n",
       "    </tr>\n",
       "    <tr>\n",
       "      <th>...</th>\n",
       "      <td>...</td>\n",
       "      <td>...</td>\n",
       "    </tr>\n",
       "    <tr>\n",
       "      <th>467</th>\n",
       "      <td>Тольятти</td>\n",
       "      <td>[53.5078,49.4204]</td>\n",
       "    </tr>\n",
       "    <tr>\n",
       "      <th>468</th>\n",
       "      <td>Томская область</td>\n",
       "      <td>[56.4846,84.9476]</td>\n",
       "    </tr>\n",
       "    <tr>\n",
       "      <th>469</th>\n",
       "      <td>Тосненский район</td>\n",
       "      <td>[59.5400,30.8800]</td>\n",
       "    </tr>\n",
       "    <tr>\n",
       "      <th>470</th>\n",
       "      <td>Тосно</td>\n",
       "      <td>[59.5400,30.8800]</td>\n",
       "    </tr>\n",
       "    <tr>\n",
       "      <th>471</th>\n",
       "      <td>Туапсе</td>\n",
       "      <td>[44.0968,39.0735]</td>\n",
       "    </tr>\n",
       "  </tbody>\n",
       "</table>\n",
       "<p>472 rows × 2 columns</p>\n",
       "</div>"
      ],
      "text/plain": [
       "               Регион         Координаты\n",
       "0     Санкт-Петербург  [59.9343,30.3351]\n",
       "1             Барнаул  [53.3606,83.7636]\n",
       "2              Рязань  [54.6269,39.6916]\n",
       "3             Саратов  [51.5336,46.0342]\n",
       "4             Воронеж  [51.6720,39.1843]\n",
       "..                ...                ...\n",
       "467          Тольятти  [53.5078,49.4204]\n",
       "468   Томская область  [56.4846,84.9476]\n",
       "469  Тосненский район  [59.5400,30.8800]\n",
       "470             Тосно  [59.5400,30.8800]\n",
       "471            Туапсе  [44.0968,39.0735]\n",
       "\n",
       "[472 rows x 2 columns]"
      ]
     },
     "execution_count": 3,
     "metadata": {},
     "output_type": "execute_result"
    }
   ],
   "source": [
    "df"
   ]
  },
  {
   "cell_type": "code",
   "execution_count": 4,
   "id": "777cdcdd",
   "metadata": {},
   "outputs": [],
   "source": [
    "HOST = os.environ['HOST']\n",
    "PORT = os.environ['PORT']\n",
    "DATABASE = os.environ['DATABASE']\n",
    "LOGIN = os.environ['LOGIN']\n",
    "PASSWORD = os.environ['PASSWORD']\n",
    "\n",
    "engine = sqlalchemy.create_engine(f'postgresql://{LOGIN}:{PASSWORD}@{HOST}:{PORT}/{DATABASE}')"
   ]
  },
  {
   "cell_type": "code",
   "execution_count": 6,
   "id": "ce879ffe",
   "metadata": {},
   "outputs": [
    {
     "data": {
      "text/plain": [
       "472"
      ]
     },
     "execution_count": 6,
     "metadata": {},
     "output_type": "execute_result"
    }
   ],
   "source": [
    "table_name = 'regions'\n",
    "schema_name = 'ormed'\n",
    "\n",
    "df.to_sql(con=engine, name = table_name, schema=schema_name, index=False, if_exists='replace')"
   ]
  }
 ],
 "metadata": {
  "kernelspec": {
   "display_name": ".venv",
   "language": "python",
   "name": "python3"
  },
  "language_info": {
   "codemirror_mode": {
    "name": "ipython",
    "version": 3
   },
   "file_extension": ".py",
   "mimetype": "text/x-python",
   "name": "python",
   "nbconvert_exporter": "python",
   "pygments_lexer": "ipython3",
   "version": "3.11.5"
  }
 },
 "nbformat": 4,
 "nbformat_minor": 5
}
