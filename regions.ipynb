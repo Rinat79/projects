{
 "cells": [
  {
   "cell_type": "code",
   "execution_count": 7,
   "id": "1f58ed54",
   "metadata": {},
   "outputs": [],
   "source": [
    "import pandas as pd\n",
    "import sqlalchemy\n",
    "import os"
   ]
  },
  {
   "cell_type": "code",
   "execution_count": 14,
   "id": "72b85053",
   "metadata": {},
   "outputs": [],
   "source": [
    "df = pd.read_csv('regions.csv', sep=',')"
   ]
  },
  {
   "cell_type": "code",
   "execution_count": 15,
   "id": "e4193dce",
   "metadata": {},
   "outputs": [
    {
     "name": "stdout",
     "output_type": "stream",
     "text": [
      "<class 'pandas.core.frame.DataFrame'>\n",
      "RangeIndex: 398 entries, 0 to 397\n",
      "Data columns (total 3 columns):\n",
      " #   Column   Non-Null Count  Dtype  \n",
      "---  ------   --------------  -----  \n",
      " 0   Регион   398 non-null    object \n",
      " 1   Широта   398 non-null    float64\n",
      " 2   Долгота  398 non-null    float64\n",
      "dtypes: float64(2), object(1)\n",
      "memory usage: 9.5+ KB\n"
     ]
    }
   ],
   "source": [
    "df.info()"
   ]
  },
  {
   "cell_type": "code",
   "execution_count": 10,
   "id": "777cdcdd",
   "metadata": {},
   "outputs": [],
   "source": [
    "HOST = os.environ['HOST']\n",
    "PORT = os.environ['PORT']\n",
    "DATABASE = os.environ['DATABASE']\n",
    "LOGIN = os.environ['LOGIN']\n",
    "PASSWORD = os.environ['PASSWORD']\n",
    "\n",
    "engine = sqlalchemy.create_engine(f'postgresql://{LOGIN}:{PASSWORD}@{HOST}:{PORT}/{DATABASE}')"
   ]
  },
  {
   "cell_type": "code",
   "execution_count": 13,
   "id": "ce879ffe",
   "metadata": {},
   "outputs": [
    {
     "data": {
      "text/plain": [
       "398"
      ]
     },
     "execution_count": 13,
     "metadata": {},
     "output_type": "execute_result"
    }
   ],
   "source": [
    "table_name = 'regions'\n",
    "schema_name = 'ormed'\n",
    "\n",
    "df.to_sql(con=engine, name = table_name, schema=schema_name, index=False, if_exists='replace')"
   ]
  }
 ],
 "metadata": {
  "kernelspec": {
   "display_name": ".venv",
   "language": "python",
   "name": "python3"
  },
  "language_info": {
   "codemirror_mode": {
    "name": "ipython",
    "version": 3
   },
   "file_extension": ".py",
   "mimetype": "text/x-python",
   "name": "python",
   "nbconvert_exporter": "python",
   "pygments_lexer": "ipython3",
   "version": "3.11.5"
  }
 },
 "nbformat": 4,
 "nbformat_minor": 5
}
